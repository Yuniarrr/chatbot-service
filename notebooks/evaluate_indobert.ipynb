{
 "cells": [
  {
   "cell_type": "markdown",
   "id": "faeb6049",
   "metadata": {},
   "source": [
    "# Evaluate with IndoBERT"
   ]
  },
  {
   "cell_type": "code",
   "execution_count": 1,
   "id": "97f565a8",
   "metadata": {},
   "outputs": [
    {
     "name": "stderr",
     "output_type": "stream",
     "text": [
      "f:\\project\\chatbot-ta\\chatbot-service\\.venv\\lib\\site-packages\\tqdm\\auto.py:21: TqdmWarning: IProgress not found. Please update jupyter and ipywidgets. See https://ipywidgets.readthedocs.io/en/stable/user_install.html\n",
      "  from .autonotebook import tqdm as notebook_tqdm\n"
     ]
    }
   ],
   "source": [
    "import sys\n",
    "import os\n",
    "\n",
    "sys.path.append(os.path.abspath(\"../\"))\n",
    "\n",
    "from transformers import BertTokenizer, BertModel\n",
    "from sentence_transformers import SentenceTransformer\n",
    "import torch\n",
    "import numpy as np\n",
    "\n",
    "from psycopg_pool import AsyncConnectionPool\n",
    "from langgraph.checkpoint.postgres.aio import AsyncPostgresSaver\n",
    "from app.retrieval.vector_store import vector_store_service\n",
    "from app.core.database import session_manager, pgvector_session_manager\n",
    "from app.env import DATABASE_URL\n",
    "from app.retrieval.chain import chain_service"
   ]
  },
  {
   "cell_type": "code",
   "execution_count": 2,
   "id": "dc9bf718",
   "metadata": {},
   "outputs": [
    {
     "name": "stdout",
     "output_type": "stream",
     "text": [
      "Initialize embedding model...\n",
      "../data/sentence-transformers/paraphrase-multilingual-MiniLM-L12-v2\n",
      "Successfully initialize embedding model\n"
     ]
    }
   ],
   "source": [
    "async def setup_environment():\n",
    "    await session_manager.initialize()\n",
    "    vector_store_service.initialize_embedding_model('../data/sentence-transformers/paraphrase-multilingual-MiniLM-L12-v2')\n",
    "    vector_store_service.initialize_pg_vector()\n",
    "    await pgvector_session_manager.initialize()\n",
    "\n",
    "    DB_URI = f\"postgresql://{DATABASE_URL}?sslmode=disable\"\n",
    "    connection_kwargs = {\n",
    "        \"autocommit\": True,\n",
    "        \"prepare_threshold\": 0,\n",
    "    }\n",
    "\n",
    "    pool = AsyncConnectionPool(conninfo=DB_URI, max_size=20, kwargs=connection_kwargs)\n",
    "    await pool.__aenter__()  # manually enter the async context\n",
    "\n",
    "    checkpointer = AsyncPostgresSaver(pool)\n",
    "    await checkpointer.setup()\n",
    "    chain_service.set_checkpointer(checkpointer)\n",
    "\n",
    "    return pool  # Keep reference to close later\n",
    "\n",
    "# Run setup once in the notebook\n",
    "pool = await setup_environment()"
   ]
  },
  {
   "cell_type": "code",
   "execution_count": 7,
   "id": "954c961d",
   "metadata": {},
   "outputs": [],
   "source": [
    "model_name = '../data/indobenchmark/indobert-base-p1'\n",
    "tokenizer = BertTokenizer.from_pretrained(pretrained_model_name_or_path=model_name)\n",
    "model = BertModel.from_pretrained(pretrained_model_name_or_path=model_name)"
   ]
  },
  {
   "cell_type": "code",
   "execution_count": 11,
   "id": "3ab4fd47",
   "metadata": {},
   "outputs": [],
   "source": [
    "from sentence_transformers import SentenceTransformer, models"
   ]
  },
  {
   "cell_type": "code",
   "execution_count": 12,
   "id": "7191d699",
   "metadata": {},
   "outputs": [],
   "source": [
    "# Load the HuggingFace model\n",
    "word_embedding_model = models.Transformer('../data/indobenchmark/indobert-base-p1')\n",
    "\n",
    "# Apply pooling (mean)\n",
    "pooling_model = models.Pooling(\n",
    "    word_embedding_model.get_word_embedding_dimension(),\n",
    "    pooling_mode_mean_tokens=True,\n",
    "    pooling_mode_cls_token=False,\n",
    "    pooling_mode_max_tokens=False\n",
    ")\n",
    "\n",
    "# Create SentenceTransformer model\n",
    "sbert_model = SentenceTransformer(modules=[word_embedding_model, pooling_model])"
   ]
  },
  {
   "cell_type": "code",
   "execution_count": 13,
   "id": "bd5c3c80",
   "metadata": {},
   "outputs": [],
   "source": [
    "def get_embeddings(text: str):\n",
    "    # Using Sentence-Transformers for faster embeddings computation\n",
    "    return sbert_model.encode(text)\n",
    "\n",
    "def cosine_similarity(embedding1, embedding2):\n",
    "    # Compute cosine similarity between two embeddings\n",
    "    return np.dot(embedding1, embedding2) / (np.linalg.norm(embedding1) * np.linalg.norm(embedding2))\n",
    "\n",
    "def evaluate_responses(user_input: str, generated_response: str, reference_response: str):\n",
    "    # Get embeddings for the generated response and the reference response\n",
    "    generated_embedding = get_embeddings(generated_response)\n",
    "    reference_embedding = get_embeddings(reference_response)\n",
    "    \n",
    "    # Calculate cosine similarity (semantic similarity)\n",
    "    similarity = cosine_similarity(generated_embedding, reference_embedding)\n",
    "    \n",
    "    # Evaluate relevance (we can assume a threshold for relevance based on the similarity)\n",
    "    is_relevant = similarity > 0.7  # You can tune this threshold\n",
    "    \n",
    "    # You can also compare the generated response with the user input to check its relevance directly\n",
    "    user_input_embedding = get_embeddings(user_input)\n",
    "    input_similarity = cosine_similarity(user_input_embedding, generated_embedding)\n",
    "    \n",
    "    print(f\"Semantic Similarity: {similarity:.4f}\")\n",
    "    print(f\"Relevance (threshold 0.7): {is_relevant}\")\n",
    "    print(f\"Input-Response Similarity: {input_similarity:.4f}\")"
   ]
  },
  {
   "cell_type": "code",
   "execution_count": 14,
   "id": "3648f885",
   "metadata": {},
   "outputs": [],
   "source": [
    "from langchain.schema import HumanMessage, AIMessage, SystemMessage"
   ]
  },
  {
   "cell_type": "code",
   "execution_count": 21,
   "id": "493f8089",
   "metadata": {},
   "outputs": [
    {
     "name": "stdout",
     "output_type": "stream",
     "text": [
      "collection_name\n",
      "collection_name\n",
      "collection_name\n",
      "administration\n",
      "test sampe sini\n"
     ]
    }
   ],
   "source": [
    "user_input = \"Siapa saja dosen yang ada di departemen teknologi informasi?\"\n",
    "\n",
    "agent = chain_service.create_agent(\"openai\")\n",
    "\n",
    "result = await agent.ainvoke(\n",
    "    {\n",
    "        \"messages\": [\n",
    "            SystemMessage(content=f\"User ID atau sender pesan adalah: user-test\"), \n",
    "            HumanMessage(content=user_input)\n",
    "        ],\n",
    "    }, \n",
    "    {\"configurable\": {\"thread_id\": f\"test-indo\"}}\n",
    ")\n",
    "\n",
    "messages = result[\"messages\"]\n",
    "ai_messages = [\n",
    "        message.content\n",
    "        for message in messages\n",
    "        if isinstance(message, AIMessage) and message.content.strip() != \"\"\n",
    "    ]\n",
    "\n",
    "generated_response = (\n",
    "        ai_messages[-1]\n",
    "        if ai_messages\n",
    "        else \"Terjadi kesalahan, tidak ada respon dari AI. Tolong hubungi developer.\"\n",
    "    )"
   ]
  },
  {
   "cell_type": "code",
   "execution_count": 22,
   "id": "9a5055cb",
   "metadata": {},
   "outputs": [],
   "source": [
    "# generated_response = \"Saya adalah CATI, asisten virtual yang dirancang untuk membantu Anda.\"\n",
    "reference_response = \"\"\"\n",
    "    *   Dr.tech.Ir. Raden Venantius Hari Ginardi, M.Sc (Kepala Departemen)\n",
    "    *   Ir. Muchammad Husni, M.Kom\n",
    "    *   Dr. Ir. Henning Titi Ciptaningtyas, S.Kom, M.Kom.\n",
    "    *   Ridho Rahman Hariadi, S.Kom., M.Sc.\n",
    "    *   Hatma Suryotrisongko, S.Kom., M.Eng., Ph.D.\n",
    "    *   Annisaa Sri Indrawanti, S. Kom., M. Kom\n",
    "    *   Dr. Rizka Wakhidatus Sholikah, S. Kom\n",
    "    *   Irzal Ahmad Sabilla, S. Kom.,M.Kom\n",
    "    *   Irzal Ahmad Sabilla, S. Kom.,M.Kom\n",
    "    *   Fuad Dary Rosyadi, S.Kom., M.Kom. \n",
    "    *   Hafara Firdausi, S.Kom., M.Kom. \n",
    "    \"\"\""
   ]
  },
  {
   "cell_type": "code",
   "execution_count": 23,
   "id": "56f7094f",
   "metadata": {},
   "outputs": [
    {
     "name": "stdout",
     "output_type": "stream",
     "text": [
      "Siapa saja dosen yang ada di departemen teknologi informasi?\n",
      "Berikut adalah beberapa dosen yang ada di Departemen Teknologi Informasi di Institut Teknologi Sepuluh Nopember:\n",
      "\n",
      "1. **Dr.tech.Ir. Raden Venantius Hari Ginardi, M.Sc**\n",
      "   - Jabatan: Kepala Departemen Teknologi Informasi\n",
      "   - Email: hari@its.ac.id\n",
      "\n",
      "2. **Ir. Muchammad Husni, M.Kom**\n",
      "   - Jabatan: Dosen\n",
      "\n",
      "3. **Dr. Ir. Henning Titi Ciptaningtyas, S.Kom, M.Kom.**\n",
      "   - Jabatan: Dosen\n",
      "   - Email: henning@its.ac.id\n",
      "\n",
      "4. **Ridho Rahman Hariadi, S.Kom., M.Sc.**\n",
      "   - Jabatan: Dosen\n",
      "   - Email: ridho@if.its.ac.id\n",
      "\n",
      "5. **Dr. Rizka Wakhidatus Sholikah, S. Kom**\n",
      "   - Jabatan: Dosen\n",
      "   - Email: wakhidatus@its.ac.id\n",
      "\n",
      "6. **Irzal Ahmad Sabilla, S. Kom., M.Kom**\n",
      "   - Jabatan: Dosen\n",
      "   - Email: irzal.ahmad.s@gmail.com\n",
      "\n",
      "Jika Anda memerlukan informasi lebih lanjut mengenai dosen lainnya, silakan tanyakan kembali.\n",
      "\n",
      "Apakah ada feedback atau saran yang ingin Anda bagikan mengenai chatbot ini?\n",
      "\n",
      "    *   Dr.tech.Ir. Raden Venantius Hari Ginardi, M.Sc (Kepala Departemen)\n",
      "    *   Ir. Muchammad Husni, M.Kom\n",
      "    *   Dr. Ir. Henning Titi Ciptaningtyas, S.Kom, M.Kom.\n",
      "    *   Ridho Rahman Hariadi, S.Kom., M.Sc.\n",
      "    *   Hatma Suryotrisongko, S.Kom., M.Eng., Ph.D.\n",
      "    *   Annisaa Sri Indrawanti, S. Kom., M. Kom\n",
      "    *   Dr. Rizka Wakhidatus Sholikah, S. Kom\n",
      "    *   Irzal Ahmad Sabilla, S. Kom.,M.Kom\n",
      "    *   Irzal Ahmad Sabilla, S. Kom.,M.Kom\n",
      "    *   Fuad Dary Rosyadi, S.Kom., M.Kom. \n",
      "    *   Hafara Firdausi, S.Kom., M.Kom. \n",
      "    \n"
     ]
    }
   ],
   "source": [
    "print(user_input)\n",
    "print(generated_response)\n",
    "print(reference_response)"
   ]
  },
  {
   "cell_type": "code",
   "execution_count": 24,
   "id": "f18d4e29",
   "metadata": {},
   "outputs": [
    {
     "name": "stdout",
     "output_type": "stream",
     "text": [
      "Semantic Similarity: 0.7833\n",
      "Relevance (threshold 0.7): True\n",
      "Input-Response Similarity: 0.3711\n"
     ]
    }
   ],
   "source": [
    "evaluate_responses(user_input, generated_response, reference_response)"
   ]
  }
 ],
 "metadata": {
  "kernelspec": {
   "display_name": ".venv",
   "language": "python",
   "name": "python3"
  },
  "language_info": {
   "codemirror_mode": {
    "name": "ipython",
    "version": 3
   },
   "file_extension": ".py",
   "mimetype": "text/x-python",
   "name": "python",
   "nbconvert_exporter": "python",
   "pygments_lexer": "ipython3",
   "version": "3.10.0"
  }
 },
 "nbformat": 4,
 "nbformat_minor": 5
}
