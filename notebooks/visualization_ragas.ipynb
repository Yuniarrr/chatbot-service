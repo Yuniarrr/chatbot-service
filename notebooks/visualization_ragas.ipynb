{
 "cells": [
  {
   "cell_type": "code",
   "execution_count": null,
   "id": "19436d8f",
   "metadata": {},
   "outputs": [],
   "source": [
    "import pandas as pd\n",
    "import seaborn as sns\n",
    "import matplotlib.pyplot as plt"
   ]
  },
  {
   "cell_type": "markdown",
   "id": "3be5d34b",
   "metadata": {},
   "source": [
    "### Bar chart or grouped bar chart"
   ]
  },
  {
   "cell_type": "code",
   "execution_count": null,
   "id": "35bbc157",
   "metadata": {},
   "outputs": [],
   "source": [
    "df = pd.read_csv(\"evaluation_result.csv\")\n",
    "\n",
    "# Melt for seaborn\n",
    "df_melted = df.melt(\n",
    "    id_vars=[\"user_input\"], \n",
    "    value_vars=[\n",
    "        \"context_precision\", \"faithfulness\", \"answer_relevancy\",\n",
    "        \"context_recall\", \"answer_correctness\", \"semantic_similarity\"\n",
    "    ],\n",
    "    var_name=\"Metric\", \n",
    "    value_name=\"Score\"\n",
    ")\n",
    "\n",
    "plt.figure(figsize=(12, 6))\n",
    "sns.barplot(data=df_melted, x=\"user_input\", y=\"Score\", hue=\"Metric\")\n",
    "plt.xticks(rotation=45, ha='right')\n",
    "plt.title(\"Evaluation Metrics by Question\")\n",
    "plt.tight_layout()\n",
    "plt.show()"
   ]
  },
  {
   "cell_type": "markdown",
   "id": "6f9be140",
   "metadata": {},
   "source": [
    "### Heatmap"
   ]
  },
  {
   "cell_type": "code",
   "execution_count": null,
   "id": "add55058",
   "metadata": {},
   "outputs": [],
   "source": [
    "metric_cols = [\n",
    "    \"context_precision\", \"faithfulness\", \"answer_relevancy\",\n",
    "    \"context_recall\", \"answer_correctness\", \"semantic_similarity\"\n",
    "]\n",
    "\n",
    "plt.figure(figsize=(10, 5))\n",
    "sns.heatmap(df[metric_cols], annot=True, cmap=\"YlGnBu\", fmt=\".2f\")\n",
    "plt.title(\"Metric Scores Heatmap\")\n",
    "plt.show()"
   ]
  },
  {
   "cell_type": "markdown",
   "id": "6a230ef6",
   "metadata": {},
   "source": [
    "### Summary Stats"
   ]
  },
  {
   "cell_type": "code",
   "execution_count": null,
   "id": "d8e5b8e7",
   "metadata": {},
   "outputs": [],
   "source": [
    "df[metric_cols].mean()"
   ]
  }
 ],
 "metadata": {
  "language_info": {
   "name": "python"
  }
 },
 "nbformat": 4,
 "nbformat_minor": 5
}
